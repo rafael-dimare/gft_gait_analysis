{
 "cells": [
  {
   "cell_type": "code",
   "execution_count": 1,
   "metadata": {
    "executionInfo": {
     "elapsed": 5529,
     "status": "ok",
     "timestamp": 1758649645478,
     "user": {
      "displayName": "Rafa Di Mare",
      "userId": "17868544962535837703"
     },
     "user_tz": -120
    },
    "id": "Yn8Mt6jtr0jS"
   },
   "outputs": [],
   "source": [
    "import seaborn as sns\n",
    "import matplotlib.pyplot as plt\n",
    "\n",
    "import json\n",
    "\n",
    "import sys\n",
    "sys.path.append(\"../src\")\n",
    "from gait_gft import *\n",
    "\n",
    "\n",
    "path_to_project = os.path.join('..')\n",
    "misc_path = os.path.join(path_to_project, 'config')\n",
    "\n",
    "with open(os.path.join(misc_path,'time_thresholds.json'), 'r') as f:\n",
    "  time_thresholds = json.load(f)\n",
    "\n",
    "with open(os.path.join(misc_path,'node_positions.json'), 'r') as f:\n",
    "    pos_loaded = json.load(f)\n",
    "    pos = {k: tuple(v) for k, v in pos_loaded.items()}"
   ]
  },
  {
   "cell_type": "code",
   "execution_count": 2,
   "metadata": {},
   "outputs": [],
   "source": [
    "import matplotlib.pyplot as plt\n",
    "import seaborn as sns\n",
    "\n",
    "class Visualizer:\n",
    "    def __init__(self):\n",
    "        pass  # You can add theme settings, font scaling, etc. here if needed\n",
    "\n",
    "    def plot_graph_basis(self, graph: GraphModel, figsize=(6.4, 8), cmap='seismic', save_path=None):\n",
    "        \"\"\"\n",
    "        Plot the Laplacian eigenvectors (U matrix) as a heatmap and the eigenvalues as a line plot above.\n",
    "\n",
    "        Parameters\n",
    "        ----------\n",
    "        graph : GraphModel\n",
    "            GraphModel object with .U, .Lambda, .nodes attributes.\n",
    "        figsize : tuple\n",
    "            Size of the figure.\n",
    "        cmap : str\n",
    "            Colormap for the heatmap.\n",
    "        save_path : str or None\n",
    "            If provided, save the figure to this path.\n",
    "        \"\"\"\n",
    "        U = graph.U\n",
    "        lambdas = graph.Lambda\n",
    "        nodes = graph.node_list\n",
    "        n = graph.n\n",
    "\n",
    "        fig, (ax1, ax2) = plt.subplots(\n",
    "            nrows=2, figsize=figsize, sharex=True,\n",
    "            gridspec_kw={'height_ratios': [1, 3]}\n",
    "        )\n",
    "\n",
    "        # --- Upper: Eigenvalues\n",
    "        width = 0.1\n",
    "        ax1.scatter(\n",
    "            np.arange(1, n+1) - 0.5, lambdas,\n",
    "            color='#9B0014', edgecolor='black', s=50, marker='o', alpha=0.8\n",
    "        )\n",
    "        ax1.set_ylabel(\"Eigenvalue\", fontsize=12)\n",
    "        ax1.set_title(r\"$L_N$ Eigenvalues\", fontsize=14, pad=10)\n",
    "        ax1.grid(True, linestyle=\"--\", linewidth=0.5, alpha=0.6)\n",
    "        ax1.tick_params(axis='both', which='major', labelsize=10)\n",
    "        ax1.set_xlim(-1, len(lambdas) + 1)\n",
    "        ax1.set_ylim(-width, max(2, lambdas.max()) + width)\n",
    "\n",
    "        # --- Lower: Heatmap of U\n",
    "        ax2.set_aspect('auto')\n",
    "        sns.heatmap(U, cmap=cmap, center=0, cbar=False,\n",
    "                    xticklabels=False, yticklabels=False, square=True, ax=ax2)\n",
    "\n",
    "        ax2.set_xlabel(\"Eigenpair Index\", fontsize=12)\n",
    "        ax2.set_ylabel(\"Graph Node Index\", fontsize=12)\n",
    "        ax2.set_title(r\"$L_N$ Eigenvectors\", fontsize=14, pad=10)\n",
    "\n",
    "        # Gridlines (vertical)\n",
    "        for x in range(1, n):\n",
    "            ax2.axvline(x, color='black', linewidth=0.7)\n",
    "\n",
    "        ax2.set_xticks(np.arange(n) + 0.5)\n",
    "        ax2.set_xticklabels(range(1, n + 1), fontsize=8, rotation=90)\n",
    "\n",
    "        ax2.set_yticks(np.arange(n) + 0.5)\n",
    "        ax2.set_yticklabels(nodes, fontsize=8)\n",
    "\n",
    "        # --- External colorbar\n",
    "        heatmap_box = ax2.get_position()\n",
    "        cbar_height = 0.32\n",
    "        cbar_bottom = heatmap_box.y0 + (heatmap_box.height - cbar_height) / 2\n",
    "        cbar_ax = fig.add_axes([0.91, cbar_bottom, 0.02, cbar_height])\n",
    "\n",
    "        norm = plt.Normalize(vmin=U.min(), vmax=U.max())\n",
    "        sm = plt.cm.ScalarMappable(cmap=cmap, norm=norm)\n",
    "        sm.set_array([])\n",
    "        f = 0.85\n",
    "        cbar = fig.colorbar(sm, cax=cbar_ax, ticks=[U.min()*f, 0, U.max()*f])\n",
    "        cbar.ax.set_yticklabels([\"-\", \"0\", \"+\"], fontsize=12)\n",
    "\n",
    "        # --- Layout\n",
    "        plt.tight_layout(rect=[0, 0, 0.9, 1], h_pad=1.5)\n",
    "\n",
    "        if save_path:\n",
    "            fig.savefig(save_path, dpi=300, bbox_inches='tight')\n",
    "\n",
    "        plt.show()\n",
    "\n",
    "\n",
    "    def plot_graph_signal(self, signal, ax, graph,\n",
    "                          pos: dict = None,\n",
    "                          norm_edges=None,\n",
    "                          font_size=3, edge_width=1,\n",
    "                          edge_cmap=plt.cm.gray_r,\n",
    "                          node_size=100,\n",
    "                          nodes_cmap=plt.cm.seismic,\n",
    "                          draw_labels=False,\n",
    "                          grayscale_edges=True,\n",
    "                          signal_min_max=None,\n",
    "                          constant_color=None,\n",
    "                          draw_edges=True,\n",
    "                          rotation=0,\n",
    "                          font_color='black',\n",
    "                          ):\n",
    "        \"\"\"\n",
    "        Plot a graph signal on the given axis.\n",
    "\n",
    "        Parameters\n",
    "        ----------\n",
    "        signal : np.ndarray\n",
    "            1D array of signal values, length = number of nodes.\n",
    "        ax : matplotlib axis\n",
    "            Axis on which to draw.\n",
    "        graph : GraphModel\n",
    "            Graph structure and node order.\n",
    "        pos : dict\n",
    "            Node position layout (dict of node → (x, y)).\n",
    "        labels : dict\n",
    "            Node labels for display.\n",
    "        edges_weights : np.ndarray\n",
    "            Edge weights (optional).\n",
    "        norm_edges : Normalize object\n",
    "            Normalizer for edge colors.\n",
    "        All other parameters: passed to `nx.draw_networkx_...`\n",
    "        \"\"\"\n",
    "        if pos is None:\n",
    "            raise ValueError(\"A position dictionary `pos` must be provided.\")\n",
    "\n",
    "        labels=dict(zip(graph.node_list,graph.node_list))\n",
    "        edges_weights = np.array([\n",
    "            graph.graph[u][v].get('weight', 1.0)\n",
    "            for u, v in graph.graph.edges()\n",
    "        ])\n",
    "        if norm_edges is None:\n",
    "            norm_edges = plt.Normalize(edges_weights.min(), edges_weights.max())\n",
    "\n",
    "\n",
    "        # Normalize node values\n",
    "        if signal_min_max is None:\n",
    "            max_abs_val = np.max(np.abs(signal))\n",
    "            signal_min_max = (-max_abs_val, max_abs_val)\n",
    "        else:\n",
    "            val = max(abs(signal_min_max[0]), abs(signal_min_max[1]))\n",
    "            signal_min_max = (-val, val)\n",
    "\n",
    "        norm_signal = plt.Normalize(vmin=signal_min_max[0], vmax=signal_min_max[1])\n",
    "\n",
    "        # Node colors\n",
    "        if constant_color is not None:\n",
    "            node_colors = constant_color\n",
    "        else:\n",
    "            node_colors = nodes_cmap(norm_signal(signal))\n",
    "\n",
    "        # Draw nodes\n",
    "        nx.draw_networkx_nodes(\n",
    "            graph.graph, pos,\n",
    "            node_color=node_colors,\n",
    "            node_size=node_size,\n",
    "            # cmap=nodes_cmap,\n",
    "            ax=ax\n",
    "        )\n",
    "\n",
    "        # Draw edges\n",
    "        if draw_edges:\n",
    "            if grayscale_edges:\n",
    "                nx.draw_networkx_edges(\n",
    "                    graph.graph, pos,\n",
    "                    edge_color=edges_weights,\n",
    "                    edge_cmap=edge_cmap,\n",
    "                    width=edge_width,\n",
    "                    edge_vmin=min(0, edges_weights.min()),\n",
    "                    edge_vmax=edges_weights.max(),\n",
    "                    ax=ax\n",
    "                )\n",
    "            else:\n",
    "                nx.draw_networkx_edges(graph.graph, pos, width=edge_width, ax=ax)\n",
    "\n",
    "        # Draw labels\n",
    "        if draw_labels:\n",
    "            label_texts = nx.draw_networkx_labels(\n",
    "                graph.graph, pos,\n",
    "                font_size=font_size,\n",
    "                font_weight='bold',\n",
    "                labels=labels,\n",
    "                ax=ax,\n",
    "                font_color=font_color\n",
    "            )\n",
    "            for _, t in label_texts.items():\n",
    "                t.set_rotation(rotation)\n",
    "\n",
    "        ax.axis(\"off\")\n",
    "\n",
    "        pos_X, pos_Y = zip(*pos.values())\n",
    "        xlims = (min(pos_X)-10, max(pos_X)+10)\n",
    "        ylims = (min(pos_Y)-10, max(pos_Y)+10)\n",
    "    \n",
    "        ax.set_xlim(xlims)\n",
    "        ax.set_ylim(ylims)\n"
   ]
  },
  {
   "cell_type": "markdown",
   "metadata": {
    "id": "-faCKojf5b46"
   },
   "source": [
    "# Graph Definition"
   ]
  },
  {
   "cell_type": "code",
   "execution_count": 3,
   "metadata": {
    "id": "_Qqhw9IV5sPx"
   },
   "outputs": [],
   "source": [
    "with open(os.path.join(misc_path, 'links.txt'),'r') as f:\n",
    "    text = f.read()\n",
    "\n",
    "nodes = [line.split('\\t')[1] for line in text.split('\\n')]\n",
    "edges = [tuple(line.split('\\t')[1:]) for line in text.split('\\n')[1:]]\n",
    "\n",
    "skeleton = GraphModel(edges, node_list=nodes)"
   ]
  },
  {
   "cell_type": "code",
   "execution_count": null,
   "metadata": {},
   "outputs": [
    {
     "name": "stderr",
     "output_type": "stream",
     "text": [
      "C:\\Users\\rdm42\\AppData\\Local\\Temp\\ipykernel_19516\\1720664371.py:79: UserWarning: This figure includes Axes that are not compatible with tight_layout, so results might be incorrect.\n",
      "  plt.tight_layout(rect=[0, 0, 0.9, 1], h_pad=1.5)\n"
     ]
    }
   ],
   "source": [
    "viz = Visualizer()\n",
    "viz.plot_graph_basis(skeleton)"
   ]
  },
  {
   "cell_type": "markdown",
   "metadata": {
    "id": "KtxDmppf5PpV"
   },
   "source": [
    "# Data Preprocessing"
   ]
  },
  {
   "cell_type": "code",
   "execution_count": null,
   "metadata": {
    "executionInfo": {
     "elapsed": 2967,
     "status": "ok",
     "timestamp": 1758649648465,
     "user": {
      "displayName": "Rafa Di Mare",
      "userId": "17868544962535837703"
     },
     "user_tz": -120
    },
    "id": "LBR-Utp3JNXC"
   },
   "outputs": [],
   "source": [
    "path_to_zip = os.path.join(path_to_project, 'data', 'HDA_proj_A2.zip')\n",
    "preproc = SkeletonPreprocessor(path_to_zip, nodes, time_thresholds)\n",
    "\n",
    "r = preproc.load_and_process('subject1/normal/trial3/skeleton.csv')"
   ]
  },
  {
   "cell_type": "markdown",
   "metadata": {
    "id": "9pWYX4qD6HP6"
   },
   "source": [
    "# Signal and Gait definition"
   ]
  },
  {
   "cell_type": "code",
   "execution_count": null,
   "metadata": {
    "executionInfo": {
     "elapsed": 82,
     "status": "ok",
     "timestamp": 1758653357624,
     "user": {
      "displayName": "Rafa Di Mare",
      "userId": "17868544962535837703"
     },
     "user_tz": -120
    },
    "id": "FL0aEvGePwS3"
   },
   "outputs": [],
   "source": [
    "gait = GaitTrial(r, skeleton, label='normal')\n",
    "# gait.vx.X_hat\n",
    "# gait.vx.X"
   ]
  },
  {
   "cell_type": "code",
   "execution_count": null,
   "metadata": {},
   "outputs": [],
   "source": [
    "# Example setup\n",
    "viz = Visualizer()\n",
    "\n",
    "signal = gait.get_velocity_matrix('x')[:, 10]  # shape: (n_nodes,)\n",
    "\n",
    "# Plot the signal\n",
    "fig, ax = plt.subplots(figsize=(4, 4))\n",
    "\n",
    "viz.plot_graph_signal(\n",
    "    signal=signal,\n",
    "    ax=ax,\n",
    "    graph=skeleton,\n",
    "    pos=pos\n",
    ")\n",
    "\n",
    "plt.tight_layout()\n",
    "plt.show()"
   ]
  },
  {
   "cell_type": "code",
   "execution_count": null,
   "metadata": {
    "colab": {
     "base_uri": "https://localhost:8080/",
     "height": 703
    },
    "executionInfo": {
     "elapsed": 2914,
     "status": "ok",
     "timestamp": 1758652247396,
     "user": {
      "displayName": "Rafa Di Mare",
      "userId": "17868544962535837703"
     },
     "user_tz": -120
    },
    "id": "QuwuTyb_LPrx",
    "outputId": "16a885b1-13ad-40ef-c521-866889f4e79b"
   },
   "outputs": [],
   "source": [
    "frame = 16\n",
    "\n",
    "channels = ['x', 'y', 'z']\n",
    "fig, axes = plt.subplots(1, 3, figsize=(17, 5), sharey=True)\n",
    "plt.subplots_adjust(wspace=0.1)\n",
    "\n",
    "v_max = max([gait.gft_dict[channel].X_hat.abs().max().max() for channel in ['x', 'y', 'z']])\n",
    "\n",
    "for channel, ax in zip(channels, axes):\n",
    "    df = gait.gft_dict[channel].X_hat\n",
    "\n",
    "    sns.heatmap(df, cmap='seismic', center=0, cbar=False,\n",
    "                vmin=-v_max, vmax=v_max,\n",
    "                yticklabels=False, #square=True,\n",
    "                ax=ax)\n",
    "\n",
    "    ax.set_title(f\"$GFT V_{channel}$\", fontsize=16)\n",
    "    # ax.set_yticks(np.arange(32) + 0.5)\n",
    "    # ax.set_yticklabels(nodes, fontsize=8)\n",
    "    ax.set_xlabel('Timestep', fontsize=10)\n",
    "\n",
    "    ax.axvline(frame + 0.5, color='green', linestyle='dashed', linewidth=1.5)\n",
    "\n",
    "\n",
    "gradient_ax = fig.add_axes([0.1, -0.05, 0.8, 0.025])  # Position for the colorbar\n",
    "gradient = np.linspace(-1, 1, 256).reshape(1, -1)  # Generate gradient data from -1 to 1\n",
    "gradient_ax.imshow(gradient, aspect='auto', cmap='seismic', extent=[-1, 1, 0, 1])\n",
    "gradient_ax.set_xticks([-1, 0, 1])\n",
    "gradient_ax.set_xticklabels(['-', '0', '+'], fontsize=4)\n",
    "gradient_ax.set_yticks([])\n",
    "gradient_ax.tick_params(axis='x', labelsize=20)\n",
    "fig.savefig(f'normal_gait_nodes_vs_time_signals_grid.png', dpi=300, bbox_inches='tight')\n",
    "plt.show()"
   ]
  },
  {
   "cell_type": "code",
   "execution_count": null,
   "metadata": {
    "executionInfo": {
     "elapsed": 9,
     "status": "ok",
     "timestamp": 1758653553695,
     "user": {
      "displayName": "Rafa Di Mare",
      "userId": "17868544962535837703"
     },
     "user_tz": -120
    },
    "id": "S-j_S8mkR0B6"
   },
   "outputs": [],
   "source": [
    "# El objeto gait debe:\n",
    "# -tener metodo de filtro, que guarde en filtered signal\n",
    "# -usando el filtered signal, que sea capaz de recuperar las posiciones originales\n",
    "\n",
    "# Después de definir objetos para graficar y animar,\n",
    "# escribir notebook que muestre cómo usarlo\n",
    "\n",
    "# Estructurar carpeta de archivos para subir a github\n",
    "\n",
    "# Referenciar tesis, paper de origen de datos"
   ]
  },
  {
   "cell_type": "code",
   "execution_count": null,
   "metadata": {
    "executionInfo": {
     "elapsed": 37,
     "status": "ok",
     "timestamp": 1758653783020,
     "user": {
      "displayName": "Rafa Di Mare",
      "userId": "17868544962535837703"
     },
     "user_tz": -120
    },
    "id": "ebF9B8NS65qs"
   },
   "outputs": [],
   "source": [
    "# Debería entregar:\n",
    "# - Notebook coherente, mostrando resultados (que el lector interprete el código)\n",
    "# - Replicar gráficas más relevantes de la tesis\n",
    "\n",
    "    # Matriz U e evals [skeleton]\n",
    "    # grid esqueletos como evecs [skeleton]\n",
    "\n",
    "    # signal vs. GFT [custom]\n",
    "    # plot energia [signal]\n",
    "    # columnas, una por cada tipo patologia [custom]\n",
    "\n",
    "# - Animaciones más relevantes (esqueleto,esqueleto con vectores, esqueleto con/sin vectores y modos laterales (enlistar),\n",
    "        # grid 6 esqueletos, [GFT(t) + energia, con esqueleto a un lado, barra vertical que recorra los modos normales])"
   ]
  }
 ],
 "metadata": {
  "colab": {
   "authorship_tag": "ABX9TyObZwKa9UZTFLqNyi6tUEKn",
   "provenance": []
  },
  "kernelspec": {
   "display_name": "Python 3 (ipykernel)",
   "language": "python",
   "name": "python3"
  },
  "language_info": {
   "codemirror_mode": {
    "name": "ipython",
    "version": 3
   },
   "file_extension": ".py",
   "mimetype": "text/x-python",
   "name": "python",
   "nbconvert_exporter": "python",
   "pygments_lexer": "ipython3",
   "version": "3.12.2"
  }
 },
 "nbformat": 4,
 "nbformat_minor": 4
}
